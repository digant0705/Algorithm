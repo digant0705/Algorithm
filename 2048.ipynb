{
  "nbformat": 4,
  "nbformat_minor": 0,
  "metadata": {
    "colab": {
      "name": "2048.ipynb",
      "provenance": [],
      "authorship_tag": "ABX9TyON4QXrpSPw7Cg1ve7DSWL5",
      "include_colab_link": true
    },
    "kernelspec": {
      "name": "python3",
      "display_name": "Python 3"
    },
    "language_info": {
      "name": "python"
    }
  },
  "cells": [
    {
      "cell_type": "markdown",
      "metadata": {
        "id": "view-in-github",
        "colab_type": "text"
      },
      "source": [
        "<a href=\"https://colab.research.google.com/github/digant0705/Algorithm/blob/master/2048.ipynb\" target=\"_parent\"><img src=\"https://colab.research.google.com/assets/colab-badge.svg\" alt=\"Open In Colab\"/></a>"
      ]
    },
    {
      "cell_type": "code",
      "metadata": {
        "id": "9wAMXG-zv79E"
      },
      "source": [
        "from random import randint\n",
        "import copy"
      ],
      "execution_count": 2,
      "outputs": []
    },
    {
      "cell_type": "code",
      "metadata": {
        "id": "kddeHY_OmkhM"
      },
      "source": [
        "#mat=[[0,0,2,2],[2,2,2,0],[4,0,0,4],[0,2,0,0]]\n",
        "\n",
        "board=4\n",
        "mat=[[0]*board for i in range(board)]\n",
        "\n"
      ],
      "execution_count": 3,
      "outputs": []
    },
    {
      "cell_type": "code",
      "metadata": {
        "id": "dC89SkmRwJ2F"
      },
      "source": [
        "def pickValue():\n",
        "  if randint(1,8)==1:\n",
        "    return 4\n",
        "  return 2\n"
      ],
      "execution_count": 4,
      "outputs": []
    },
    {
      "cell_type": "code",
      "metadata": {
        "id": "2P6ezYn7Ucn0"
      },
      "source": [
        "def won():\n",
        "  for i in mat:\n",
        "    if 2048 in i:\n",
        "      return True"
      ],
      "execution_count": 24,
      "outputs": []
    },
    {
      "cell_type": "code",
      "metadata": {
        "id": "PYWZ2KL3UxkF"
      },
      "source": [
        "def lose():\n",
        "  b1=copy.deepcopy(mat)\n",
        "  b2=copy.deepcopy(mat)\n",
        "\n",
        "  if b2==mergeLeft(b1):\n",
        "    if b2==mergeRight(b1):\n",
        "      if b2==mergeUp(b1):\n",
        "        if b2==mergeDown(b1):\n",
        "          return True\n",
        "  return False\n"
      ],
      "execution_count": 26,
      "outputs": []
    },
    {
      "cell_type": "code",
      "metadata": {
        "id": "hZFkIXl_0Yt7"
      },
      "source": [
        "def pickMoveValue():\n",
        "  start=1\n",
        "  while start>0: \n",
        "    x=randint(0,board-1)\n",
        "    y=randint(0,board-1)\n",
        "    if  mat[x][y]==0:\n",
        "      mat[x][y]=pickValue()\n",
        "      start-=1\n",
        "  \n"
      ],
      "execution_count": 6,
      "outputs": []
    },
    {
      "cell_type": "code",
      "metadata": {
        "id": "1Bx8numIpgdw"
      },
      "source": [
        "def maxNum():\n",
        "  m=-1\n",
        "  for i in range(len(mat)):\n",
        "    for j in range(len(mat[0])):\n",
        "      m=max(m,mat[i][j])\n",
        "  return len(str(m))"
      ],
      "execution_count": 7,
      "outputs": []
    },
    {
      "cell_type": "code",
      "metadata": {
        "id": "VJ9ZsQEInWNm"
      },
      "source": [
        "def display():\n",
        "  spaces=maxNum()\n",
        "  sep=\"|\"\n",
        "  for i in range(len(mat)):\n",
        "    s=sep+\"\"\n",
        "    for j in range(len(mat[0])):\n",
        "      if mat[i][j]==0:\n",
        "        s+=\" \"*spaces+sep\n",
        "      else:\n",
        "        s+=\" \"*(spaces-len(str(mat[i][j])))+str(mat[i][j])+sep\n",
        "    print(s)\n"
      ],
      "execution_count": 8,
      "outputs": []
    },
    {
      "cell_type": "code",
      "metadata": {
        "id": "EzVqsIaUnu0G"
      },
      "source": [
        "def rowLeft(row):\n",
        "  \n",
        "  #move everything to the left\n",
        "  for i in range(board-1):\n",
        "    for r in range(board-1,0,-1):\n",
        "      if row[r-1]==0:\n",
        "        row[r-1]=row[r]\n",
        "        row[r]=0\n",
        "  \n",
        "  \n",
        "  for i in range(board-1):\n",
        "    if row[i]==row[i+1]:\n",
        "      row[i]=2*row[i]\n",
        "      row[i+1]=0\n",
        "  \n",
        "  for i in range(board-1):\n",
        "    for r in range(board-1,0,-1):\n",
        "      if row[r-1]==0:\n",
        "        row[r-1]=row[r]\n",
        "        row[r]=0\n",
        "  return row\n",
        "\n",
        "def mergeLeft(mat):\n",
        "  for i,row in enumerate(mat):\n",
        "    mat[i]=rowLeft(row)\n",
        "  return mat\n",
        "  \n"
      ],
      "execution_count": 9,
      "outputs": []
    },
    {
      "cell_type": "code",
      "metadata": {
        "colab": {
          "base_uri": "https://localhost:8080/"
        },
        "id": "dXimi4TZ7iNl",
        "outputId": "3a1199c8-5a8f-4504-b75a-84cbe72a009e"
      },
      "source": [
        "mat=mergeLeft(mat)\n",
        "display()"
      ],
      "execution_count": 221,
      "outputs": [
        {
          "output_type": "stream",
          "text": [
            "|  |  |  |  |\n",
            "|  |  |  |  |\n",
            "| 4|  |  |  |\n",
            "|16|  |  |  |\n"
          ],
          "name": "stdout"
        }
      ]
    },
    {
      "cell_type": "code",
      "metadata": {
        "colab": {
          "base_uri": "https://localhost:8080/"
        },
        "id": "HsYWemG7mg76",
        "outputId": "9aa11743-d131-4f20-f424-5ddb6c15b690"
      },
      "source": [
        "display()"
      ],
      "execution_count": 10,
      "outputs": [
        {
          "output_type": "stream",
          "text": [
            "| | | | |\n",
            "| | | | |\n",
            "| | | | |\n",
            "| | | | |\n"
          ],
          "name": "stdout"
        }
      ]
    },
    {
      "cell_type": "code",
      "metadata": {
        "id": "YKA1bb5w_CPt"
      },
      "source": [
        "def mergeRight(mat):\n",
        "  for i,row in enumerate(mat):\n",
        "    mat[i]=row[::-1]\n",
        "  \n",
        "  mergeLeft(mat)\n",
        "  for i,row in enumerate(mat):\n",
        "    mat[i]=row[::-1]\n",
        "  return mat\n",
        "    \n",
        "\n"
      ],
      "execution_count": 11,
      "outputs": []
    },
    {
      "cell_type": "code",
      "metadata": {
        "colab": {
          "base_uri": "https://localhost:8080/"
        },
        "id": "v1ovWM8a_oYp",
        "outputId": "3c9780d3-84f5-4e39-efac-7053e88b2ffd"
      },
      "source": [
        "mat=mergeRight(mat)\n",
        "display()"
      ],
      "execution_count": 222,
      "outputs": [
        {
          "output_type": "stream",
          "text": [
            "|  |  |  |  |\n",
            "|  |  |  |  |\n",
            "|  |  |  | 4|\n",
            "|  |  |  |16|\n"
          ],
          "name": "stdout"
        }
      ]
    },
    {
      "cell_type": "code",
      "metadata": {
        "id": "YQ9qcE_hBvZm"
      },
      "source": [
        "def transpose(mat):\n",
        "  for i in range(board):\n",
        "    for j in range(i,board):\n",
        "      mat[j][i],mat[i][j]=mat[i][j],mat[j][i]\n",
        "  return mat\n",
        "\n"
      ],
      "execution_count": 12,
      "outputs": []
    },
    {
      "cell_type": "code",
      "metadata": {
        "id": "Gr1dhcG3CEoD"
      },
      "source": [
        "def mergeUp(mat):\n",
        "  mat=transpose(mat)\n",
        "  mat=mergeLeft(mat)\n",
        "  mat=transpose(mat)\n",
        "  return mat\n"
      ],
      "execution_count": 13,
      "outputs": []
    },
    {
      "cell_type": "code",
      "metadata": {
        "colab": {
          "base_uri": "https://localhost:8080/"
        },
        "id": "_guh6IMjCMj8",
        "outputId": "d1364e15-b8e0-4af8-9e4b-f106e91fec45"
      },
      "source": [
        "mat=mergeUp(mat)\n",
        "display()\n"
      ],
      "execution_count": 214,
      "outputs": [
        {
          "output_type": "stream",
          "text": [
            "| | |4|4|\n",
            "| | | |2|\n",
            "| | | |8|\n",
            "| | | |2|\n"
          ],
          "name": "stdout"
        }
      ]
    },
    {
      "cell_type": "code",
      "metadata": {
        "id": "EJ1cBhYpFpr2"
      },
      "source": [
        "def mergeDown(mat):\n",
        "  mat=transpose(mat)\n",
        "  mat=mergeRight(mat)\n",
        "  mat=transpose(mat)\n",
        "  return mat"
      ],
      "execution_count": 14,
      "outputs": []
    },
    {
      "cell_type": "code",
      "metadata": {
        "colab": {
          "base_uri": "https://localhost:8080/"
        },
        "id": "KF8oXQNeF7hd",
        "outputId": "198544fd-18f2-420c-ed02-09d54f6fbf62"
      },
      "source": [
        "mat=mergeDown(mat)\n",
        "display()"
      ],
      "execution_count": 219,
      "outputs": [
        {
          "output_type": "stream",
          "text": [
            "| | | | |\n",
            "| | | | |\n",
            "|2| | |2|\n",
            "|4|4|4|4|\n"
          ],
          "name": "stdout"
        }
      ]
    },
    {
      "cell_type": "code",
      "metadata": {
        "colab": {
          "base_uri": "https://localhost:8080/"
        },
        "id": "zJpDNqg5yOAZ",
        "outputId": "02f777a6-c404-49c0-9c11-75e02eb0924c"
      },
      "source": [
        "#choose two random values \n",
        "start=2\n",
        "while start>0: \n",
        "  x=randint(0,board-1)\n",
        "  y=randint(0,board-1)\n",
        "  if mat[x][y]==0:\n",
        "    mat[x][y]=pickValue()\n",
        "    start-=1\n",
        "display()"
      ],
      "execution_count": 20,
      "outputs": [
        {
          "output_type": "stream",
          "text": [
            "| | |2|2|\n",
            "| | | | |\n",
            "| |2|2|2|\n",
            "|2| | | |\n"
          ],
          "name": "stdout"
        }
      ]
    },
    {
      "cell_type": "code",
      "metadata": {
        "id": "gaAQLWvNdJ1N"
      },
      "source": [
        "gameOver=False"
      ],
      "execution_count": 21,
      "outputs": []
    },
    {
      "cell_type": "code",
      "metadata": {
        "colab": {
          "base_uri": "https://localhost:8080/"
        },
        "id": "cCTowvAOrnib",
        "outputId": "15d8478c-f4ae-447d-9e1b-870d4bde7183"
      },
      "source": [
        "#play\n",
        "display()\n",
        "while not gameOver:\n",
        "  move=input(\"Enter your move: \")\n",
        "  valid=True\n",
        "  tboard=copy.deepcopy(mat)\n",
        "\n",
        "  if move==\"a\":\n",
        "    mat=mergeLeft(mat)\n",
        "    \n",
        "  elif move=='s':\n",
        "    mat=mergeDown(mat)\n",
        "    \n",
        "  elif move==\"d\":\n",
        "    mat=mergeRight(mat)\n",
        "    \n",
        "  elif move==\"w\":\n",
        "    mat=mergeUp(mat)\n",
        "    \n",
        "  else:\n",
        "    valid=False\n",
        "\n",
        "  if not valid:\n",
        "    print(\"enter the valid move\")\n",
        "  else:\n",
        "    if tboard==mat:\n",
        "      print(\"change the direction\")\n",
        "    else:\n",
        "      if won():\n",
        "        display()\n",
        "        gameOver=True\n",
        "        print(\"you have won\")\n",
        "      else:\n",
        "        \n",
        "        pickMoveValue()\n",
        "        display()\n",
        "\n",
        "        if lose():\n",
        "          gameOver=True\n",
        "          print(\"no mmoves u have lost the game\")\n",
        "\n",
        "\n",
        "          \n",
        "\n"
      ],
      "execution_count": 27,
      "outputs": [
        {
          "output_type": "stream",
          "text": [
            "|8|2| | |\n",
            "|2| | | |\n",
            "| | | | |\n",
            "| | | |2|\n",
            "Enter your move: s\n",
            "| | | | |\n",
            "| | | | |\n",
            "|8| | |2|\n",
            "|2|2| |2|\n",
            "Enter your move: a\n",
            "| | | | |\n",
            "| | | | |\n",
            "|8|2| | |\n",
            "|4|2|2| |\n",
            "Enter your move: d\n",
            "| | | |2|\n",
            "| | | | |\n",
            "| | |8|2|\n",
            "| | |4|4|\n",
            "Enter your move: a\n",
            "|2| | | |\n",
            "| | | | |\n",
            "|8|2| | |\n",
            "|8| |2| |\n",
            "Enter your move: s\n",
            "|  |  |  |  |\n",
            "|  | 2|  |  |\n",
            "| 2|  |  |  |\n",
            "|16| 2| 2|  |\n",
            "Enter your move: d\n",
            "|  |  |  | 2|\n",
            "|  |  |  | 2|\n",
            "|  |  |  | 2|\n",
            "|  |  |16| 4|\n",
            "Enter your move: w\n",
            "|  |  |16| 4|\n",
            "|  |  | 2| 2|\n",
            "|  |  |  | 4|\n",
            "|  |  |  |  |\n",
            "Enter your move: a\n",
            "|16| 4|  |  |\n",
            "| 4|  |  |  |\n",
            "| 4| 2|  |  |\n",
            "|  |  |  |  |\n",
            "Enter your move: s\n",
            "|  |  |  |  |\n",
            "|  |  |  |  |\n",
            "|16| 4|  |  |\n",
            "| 8| 2|  | 4|\n",
            "Enter your move: d\n",
            "|  |  |  |  |\n",
            "|  |  |  |  |\n",
            "|  |  |16| 4|\n",
            "| 4| 8| 2| 4|\n",
            "Enter your move: w\n",
            "| 4| 8|16| 8|\n",
            "|  |  | 2|  |\n",
            "|  |  |  |  |\n",
            "|  | 2|  |  |\n",
            "Enter your move: s\n",
            "|  |  |  |  |\n",
            "| 2|  |  |  |\n",
            "|  | 8|16|  |\n",
            "| 4| 2| 2| 8|\n",
            "Enter your move: a\n",
            "| 2|  |  |  |\n",
            "| 2|  |  |  |\n",
            "| 8|16|  |  |\n",
            "| 4| 4| 8|  |\n",
            "Enter your move: w\n",
            "| 4|16| 8|  |\n",
            "| 8| 4|  | 2|\n",
            "| 4|  |  |  |\n",
            "|  |  |  |  |\n",
            "Enter your move: s\n",
            "|  |  |  |  |\n",
            "| 4| 2|  |  |\n",
            "| 8|16|  |  |\n",
            "| 4| 4| 8| 2|\n",
            "Enter your move: a\n",
            "|  |  | 2|  |\n",
            "| 4| 2|  |  |\n",
            "| 8|16|  |  |\n",
            "| 8| 8| 2|  |\n",
            "Enter your move: y\n",
            "enter the valid move\n",
            "Enter your move: d\n",
            "|  |  |  | 2|\n",
            "|  |  | 4| 2|\n",
            "|  |  | 8|16|\n",
            "|  | 2|16| 2|\n",
            "Enter your move: d\n",
            "change the direction\n",
            "Enter your move: d\n",
            "change the direction\n",
            "Enter your move: a\n",
            "| 2|  |  |  |\n",
            "| 4| 2|  |  |\n",
            "| 8|16|  | 2|\n",
            "| 2|16| 2|  |\n",
            "Enter your move: a\n",
            "| 2|  |  | 2|\n",
            "| 4| 2|  |  |\n",
            "| 8|16| 2|  |\n",
            "| 2|16| 2|  |\n",
            "Enter your move: a\n",
            "| 4| 2|  |  |\n",
            "| 4| 2|  |  |\n",
            "| 8|16| 2|  |\n",
            "| 2|16| 2|  |\n",
            "Enter your move: a\n",
            "change the direction\n",
            "Enter your move: a\n",
            "change the direction\n",
            "Enter your move: d\n",
            "|  |  | 4| 2|\n",
            "|  | 2| 4| 2|\n",
            "|  | 8|16| 2|\n",
            "|  | 2|16| 2|\n",
            "Enter your move: a\n",
            "| 4| 2|  |  |\n",
            "| 2| 4| 2| 2|\n",
            "| 8|16| 2|  |\n",
            "| 2|16| 2|  |\n",
            "Enter your move: d\n",
            "|  |  | 4| 2|\n",
            "| 2| 2| 4| 4|\n",
            "|  | 8|16| 2|\n",
            "|  | 2|16| 2|\n",
            "Enter your move: a\n",
            "| 4| 2|  |  |\n",
            "| 4| 8|  |  |\n",
            "| 8|16| 2| 2|\n",
            "| 2|16| 2|  |\n",
            "Enter your move: d\n",
            "|  | 4| 4| 2|\n",
            "|  |  | 4| 8|\n",
            "|  | 8|16| 4|\n",
            "|  | 2|16| 2|\n",
            "Enter your move: a\n",
            "| 8| 2|  |  |\n",
            "| 4| 8|  | 2|\n",
            "| 8|16| 4|  |\n",
            "| 2|16| 2|  |\n",
            "Enter your move: w\n",
            "| 8| 2| 4| 2|\n",
            "| 4| 8| 2| 2|\n",
            "| 8|32|  |  |\n",
            "| 2|  |  |  |\n",
            "Enter your move: d\n",
            "| 8| 2| 4| 2|\n",
            "|  | 4| 8| 4|\n",
            "| 2|  | 8|32|\n",
            "|  |  |  | 2|\n",
            "Enter your move: s\n",
            "|  |  |  | 2|\n",
            "| 2|  |  | 4|\n",
            "| 8| 2| 4|32|\n",
            "| 2| 4|16| 2|\n",
            "Enter your move: a\n",
            "| 2| 2|  |  |\n",
            "| 2| 4|  |  |\n",
            "| 8| 2| 4|32|\n",
            "| 2| 4|16| 2|\n",
            "Enter your move: w\n",
            "| 4| 2| 4|32|\n",
            "| 8| 4|16| 2|\n",
            "| 2| 2| 2|  |\n",
            "|  | 4|  |  |\n",
            "Enter your move: w\n",
            "change the direction\n",
            "Enter your move: w\n",
            "change the direction\n",
            "Enter your move: s\n",
            "| 2| 2|  |  |\n",
            "| 4| 4| 4|  |\n",
            "| 8| 2|16|32|\n",
            "| 2| 4| 2| 2|\n",
            "Enter your move: d\n",
            "|  |  |  | 4|\n",
            "|  | 2| 4| 8|\n",
            "| 8| 2|16|32|\n",
            "|  | 2| 4| 4|\n",
            "Enter your move: d\n",
            "|  |  |  | 4|\n",
            "| 4| 2| 4| 8|\n",
            "| 8| 2|16|32|\n",
            "|  |  | 2| 8|\n",
            "Enter your move: d\n",
            "change the direction\n",
            "Enter your move: a\n",
            "| 4| 2|  |  |\n",
            "| 4| 2| 4| 8|\n",
            "| 8| 2|16|32|\n",
            "| 2| 8|  |  |\n",
            "Enter your move: a\n",
            "change the direction\n",
            "Enter your move: d\n",
            "| 2|  | 4| 2|\n",
            "| 4| 2| 4| 8|\n",
            "| 8| 2|16|32|\n",
            "|  |  | 2| 8|\n",
            "Enter your move: d\n",
            "|  | 2| 4| 2|\n",
            "| 4| 2| 4| 8|\n",
            "| 8| 2|16|32|\n",
            "|  | 2| 2| 8|\n",
            "Enter your move: a\n",
            "| 2| 4| 2|  |\n",
            "| 4| 2| 4| 8|\n",
            "| 8| 2|16|32|\n",
            "| 4| 8| 2|  |\n",
            "Enter your move: d\n",
            "|  | 2| 4| 2|\n",
            "| 4| 2| 4| 8|\n",
            "| 8| 2|16|32|\n",
            "| 2| 4| 8| 2|\n",
            "Enter your move: a\n",
            "| 2| 4| 2| 4|\n",
            "| 4| 2| 4| 8|\n",
            "| 8| 2|16|32|\n",
            "| 2| 4| 8| 2|\n",
            "Enter your move: w\n",
            "| 2| 4| 2| 4|\n",
            "| 4| 4| 4| 8|\n",
            "| 8| 4|16|32|\n",
            "| 2| 2| 8| 2|\n",
            "Enter your move: w\n",
            "| 2| 8| 2| 4|\n",
            "| 4| 4| 4| 8|\n",
            "| 8| 2|16|32|\n",
            "| 2| 4| 8| 2|\n",
            "Enter your move: w\n",
            "change the direction\n",
            "Enter your move: w\n",
            "change the direction\n",
            "Enter your move: a\n",
            "| 2| 8| 2| 4|\n",
            "| 8| 4| 8| 2|\n",
            "| 8| 2|16|32|\n",
            "| 2| 4| 8| 2|\n",
            "Enter your move: a\n",
            "change the direction\n",
            "Enter your move: d\n",
            "change the direction\n",
            "Enter your move: s\n",
            "| 2| 8| 2| 4|\n",
            "| 2| 4| 8| 2|\n",
            "|16| 2|16|32|\n",
            "| 2| 4| 8| 2|\n",
            "Enter your move: s\n",
            "| 4| 8| 2| 4|\n",
            "| 4| 4| 8| 2|\n",
            "|16| 2|16|32|\n",
            "| 2| 4| 8| 2|\n",
            "Enter your move: s\n",
            "| 4| 8| 2| 4|\n",
            "| 8| 4| 8| 2|\n",
            "|16| 2|16|32|\n",
            "| 2| 4| 8| 2|\n",
            "no mmoves u have lost the game\n"
          ],
          "name": "stdout"
        }
      ]
    },
    {
      "cell_type": "code",
      "metadata": {
        "id": "ljewJs_t3wC9"
      },
      "source": [
        ""
      ],
      "execution_count": null,
      "outputs": []
    }
  ]
}